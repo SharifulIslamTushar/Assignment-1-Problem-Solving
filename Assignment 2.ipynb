{
 "cells": [
  {
   "cell_type": "code",
   "execution_count": 3,
   "id": "02527bde",
   "metadata": {},
   "outputs": [
    {
     "name": "stdout",
     "output_type": "stream",
     "text": [
      "3 4 "
     ]
    }
   ],
   "source": [
    "#Given an integer array of size n, find all elements that appear more than ⌊ n/3 ⌋ times.\n",
    "\n",
    "def findMajority(arr):\n",
    "    m = {}\n",
    "    size= len(arr)\n",
    "    for i in range(size):\n",
    "        if arr[i] in m:\n",
    "            m[arr[i]] += 1\n",
    "        else:\n",
    "            m[arr[i]] = 1\n",
    "\n",
    "    for i in sorted(m):\n",
    "        if m[i] > int(size / 3):\n",
    "            flag =1\n",
    "            print(i, end = \" \")\n",
    "\n",
    "arr = [3,2,3,4,4,4,4,3,3]\n",
    "findMajority(arr)"
   ]
  },
  {
   "cell_type": "code",
   "execution_count": 13,
   "id": "b0485de2",
   "metadata": {},
   "outputs": [
    {
     "name": "stdout",
     "output_type": "stream",
     "text": [
      "[-1, -1, 2], [-1, 0, 1], "
     ]
    }
   ],
   "source": [
    "#Given an integer array nums, return all the triplets [nums[i], nums[j], nums[k]] such that i != j, i != k, and j != k, and nums[i] + nums[j] + nums[k] == 0.\n",
    "\n",
    "def findTriplets(nums):\n",
    "    Sum=0\n",
    "    n = len(nums)\n",
    "    i = 0\n",
    "    j = 0\n",
    "    k = 0\n",
    "    \n",
    "    triplet = []\n",
    "    uniqTriplets = []\n",
    "    temp = \"\"\n",
    " \n",
    "    newTriplet = [0, 0, 0]\n",
    " \n",
    "    nums.sort()\n",
    " \n",
    "    for i in range(n - 2):\n",
    "        j = i + 1\n",
    "        k = n - 1\n",
    "        while(j < k):\n",
    "            if(nums[i] + nums[j] + nums[k] == Sum):\n",
    "                temp = str(nums[i]) + \":\" + str(nums[j]) + \":\" + str(nums[k])\n",
    "                if temp not in uniqTriplets:\n",
    "                    uniqTriplets.append(temp)\n",
    "                    newTriplet[0] = nums[i]\n",
    "                    newTriplet[1] = nums[j]\n",
    "                    newTriplet[2] = nums[k]\n",
    "                    triplet.append(newTriplet)\n",
    "                    newTriplet = [0, 0, 0]\n",
    "                j += 1\n",
    "                k -= 1\n",
    "\n",
    "            elif(nums[i] + nums[j] + nums[k] > Sum):\n",
    "                k -= 1\n",
    "\n",
    "            else:\n",
    "                j += 1\n",
    " \n",
    "    if(len(triplet) == 0):\n",
    "        return 0\n",
    "     \n",
    "    for i in range(len(triplet)):\n",
    "        print(triplet[i], end = \", \")\n",
    "    return 1\n",
    "\n",
    "nums = [-1,0,1,2,-1,-4]\n",
    "\n",
    "if(not findTriplets(nums)):\n",
    "    print(\"No triplets can be formed.\")\n",
    " "
   ]
  },
  {
   "cell_type": "code",
   "execution_count": null,
   "id": "ae252a0f",
   "metadata": {},
   "outputs": [],
   "source": []
  }
 ],
 "metadata": {
  "kernelspec": {
   "display_name": "Python 3 (ipykernel)",
   "language": "python",
   "name": "python3"
  },
  "language_info": {
   "codemirror_mode": {
    "name": "ipython",
    "version": 3
   },
   "file_extension": ".py",
   "mimetype": "text/x-python",
   "name": "python",
   "nbconvert_exporter": "python",
   "pygments_lexer": "ipython3",
   "version": "3.9.12"
  }
 },
 "nbformat": 4,
 "nbformat_minor": 5
}
